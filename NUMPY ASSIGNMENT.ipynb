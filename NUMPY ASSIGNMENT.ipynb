{
 "cells": [
  {
   "cell_type": "markdown",
   "metadata": {},
   "source": [
    "# Suppose you have a superstore which runs 24/7. Your tasks are to:"
   ]
  },
  {
   "cell_type": "raw",
   "metadata": {},
   "source": [
    "Create a dataset of the sale transactions of \n",
    "each day and each hour for the Month of January. \n",
    "Each row contains in the array should contain 23 records.\n",
    "Each index will represent total sale in that hour. \n",
    "e.g row 0 will contain the array of 23 transactions of Jan 1st.\n",
    "Now the 0 index of each row should contain the total sale made at 00:00 hours of respective date."
   ]
  },
  {
   "cell_type": "code",
   "execution_count": 4,
   "metadata": {},
   "outputs": [],
   "source": [
    "import numpy as np"
   ]
  },
  {
   "cell_type": "code",
   "execution_count": 7,
   "metadata": {},
   "outputs": [
    {
     "data": {
      "text/plain": [
       "array([[80,  4, 53, 31, 88, 36, 76, 13, 16, 97, 70, 10, 79, 52, 70, 47,\n",
       "        84, 43, 89, 16, 35, 31, 99, 82],\n",
       "       [46,  1, 10, 48, 86, 36, 95, 39, 50, 30, 62, 27, 96,  8, 85, 17,\n",
       "        65, 78, 68, 33, 91, 13,  7, 96],\n",
       "       [25, 96, 43, 14, 35,  1, 14, 48, 12, 82, 70, 26, 52, 69, 78, 21,\n",
       "         5, 69, 46, 66, 81, 64, 66, 18],\n",
       "       [69, 65, 81, 31, 13, 52, 12, 86, 75, 70, 61, 60, 11, 43, 73, 83,\n",
       "        59, 13, 17, 38, 37,  5, 20, 56],\n",
       "       [43, 58, 41, 62, 43, 10, 72, 19, 24, 67, 58, 99, 27, 81, 80, 79,\n",
       "        20, 95, 76, 27, 10, 18, 97, 96],\n",
       "       [52, 42, 16, 17, 76, 31, 56, 36, 69, 41, 44,  7, 40, 15, 21, 30,\n",
       "        39, 43, 58, 76, 83,  5, 44, 36],\n",
       "       [61, 82, 78, 61, 79, 67, 62, 22,  6, 64, 59, 35, 45, 30, 33, 47,\n",
       "        74, 62, 16, 48, 86, 18, 56, 31],\n",
       "       [76, 88, 50, 84, 31, 11, 77, 58, 23, 22, 77, 84, 99, 43,  4,  2,\n",
       "        96, 49, 27, 84, 44,  7,  3, 87],\n",
       "       [48, 95, 88, 85, 55, 30, 53, 61, 13, 68, 62, 72, 24, 65, 34, 67,\n",
       "        20, 13,  7, 10,  1, 40, 61, 76],\n",
       "       [ 5,  4, 69, 24, 20, 57, 37, 76, 64, 92, 75, 70, 70, 23, 13, 38,\n",
       "        39, 58, 49, 45, 76, 46, 67, 96],\n",
       "       [93, 23, 28,  5, 23, 35,  4, 88, 99, 96, 46, 42, 18, 29, 71,  4,\n",
       "        87, 12, 43, 88, 21, 72, 72, 56],\n",
       "       [38,  6, 94, 55,  8,  2,  3, 65, 25, 70, 30, 70, 55,  4, 34, 60,\n",
       "        51, 76, 10, 22, 57, 38,  2, 43],\n",
       "       [85, 86, 26, 60, 15, 47, 62,  4, 57, 33, 59, 46, 80, 68, 27, 76,\n",
       "         8, 81, 18, 17, 39, 99, 84, 50],\n",
       "       [86, 74, 10, 46, 54, 76, 76, 27,  2, 32, 62, 45, 30, 85, 55,  5,\n",
       "         4, 37, 81, 25, 97, 25, 67, 58],\n",
       "       [96, 26, 74,  8, 68, 33, 63, 81, 25, 47, 79, 25, 61, 48, 49, 18,\n",
       "        35, 42, 83, 15, 83, 48, 47, 54],\n",
       "       [67, 44, 49, 98, 43, 87, 37, 84, 38, 68, 39, 34, 18, 70, 76, 94,\n",
       "        70, 11, 88,  5, 31,  6, 81, 77],\n",
       "       [48, 20, 62, 42,  7,  9, 55, 19, 89, 93, 13, 98, 77, 34, 52, 41,\n",
       "        92, 15, 70, 95, 54, 24, 71, 59],\n",
       "       [55, 42,  1, 76, 37, 50, 65, 35, 83, 86, 41, 84, 22, 51,  1, 83,\n",
       "        36,  3, 72, 19, 86, 79, 29, 52],\n",
       "       [99, 74, 89, 28, 10, 11, 79, 13, 95, 29,  7,  2, 94, 61, 19, 86,\n",
       "        95, 43, 55,  9, 25, 25, 65, 84],\n",
       "       [ 5, 14, 63, 53, 54,  5, 66,  5, 22, 77, 71, 65, 69, 29, 78, 89,\n",
       "        96, 95, 64, 37,  8, 87, 76, 75],\n",
       "       [91, 40, 25, 31,  3, 60, 23,  8, 77,  3, 61,  3, 43, 89, 63,  1,\n",
       "        71, 75, 38, 13, 61, 37, 79, 42],\n",
       "       [ 2, 14, 17, 37, 38, 72, 71, 65, 59, 54, 74, 19, 92, 12, 67, 47,\n",
       "        37, 32, 96, 21,  5, 24, 44, 87],\n",
       "       [98, 71, 62, 95, 41, 81, 56, 76, 58,  2, 75, 42, 87, 88, 41,  7,\n",
       "        57, 34, 53, 77, 66, 21, 76,  6],\n",
       "       [92, 72, 28, 73, 87, 42, 73, 79, 97, 84, 16, 78, 37, 19, 23, 49,\n",
       "        74, 42, 51, 65, 81,  6, 71, 56],\n",
       "       [70, 21, 30, 33, 16, 15, 70, 55, 30, 22, 76, 58, 46, 18, 28,  9,\n",
       "         2,  5, 16, 32, 57, 66, 27, 43],\n",
       "       [95, 92, 28, 54,  7, 42, 99, 68, 94, 12, 96, 50, 99, 28, 27, 91,\n",
       "        72, 58, 78, 17, 57,  6, 60, 86],\n",
       "       [49, 81, 15, 84, 78, 18, 12, 21, 36, 15, 95, 23, 43, 19, 79, 98,\n",
       "        49, 97, 40, 29, 93, 14, 67, 98],\n",
       "       [30,  8, 27, 76, 83, 28, 35, 54, 26, 99, 48, 94, 15, 34, 22, 69,\n",
       "        97, 93, 10, 30, 11, 26, 31,  9],\n",
       "       [39, 54, 66,  3, 95, 86, 21, 37, 52, 42, 80, 49, 85, 92, 66, 52,\n",
       "        94, 94, 17, 91, 63, 71, 40, 43],\n",
       "       [73, 20,  9, 62,  2, 17, 69, 63, 42, 17, 70, 94, 77, 75, 70,  8,\n",
       "        43, 60, 20, 72, 60, 52, 13, 50],\n",
       "       [18, 35, 51, 41, 27, 74, 97, 89, 52, 30, 47, 96, 70, 68, 19, 52,\n",
       "         5,  7,  4, 23, 87, 28, 73,  5]])"
      ]
     },
     "execution_count": 7,
     "metadata": {},
     "output_type": "execute_result"
    }
   ],
   "source": [
    "Monthly = np.random.randint(low = 1, high = 100, size = (31,24))\n",
    "Monthly"
   ]
  },
  {
   "cell_type": "markdown",
   "metadata": {},
   "source": [
    "2) Calculate Daily Average Sale of this dataset"
   ]
  },
  {
   "cell_type": "code",
   "execution_count": 11,
   "metadata": {},
   "outputs": [
    {
     "data": {
      "text/plain": [
       "array([54.20833333, 49.45833333, 45.875     , 47.08333333, 54.25      ,\n",
       "       40.70833333, 50.91666667, 51.08333333, 47.83333333, 50.54166667,\n",
       "       48.125     , 38.25      , 51.125     , 48.29166667, 50.33333333,\n",
       "       54.79166667, 51.625     , 49.5       , 49.875     , 54.29166667,\n",
       "       43.20833333, 45.25      , 57.08333333, 58.125     , 35.20833333,\n",
       "       59.        , 52.20833333, 43.95833333, 59.66666667, 47.41666667,\n",
       "       45.75      ])"
      ]
     },
     "execution_count": 11,
     "metadata": {},
     "output_type": "execute_result"
    }
   ],
   "source": [
    "Daily_Average = Monthly.mean(axis=1)\n",
    "Daily_Average"
   ]
  },
  {
   "cell_type": "markdown",
   "metadata": {},
   "source": [
    "3) Calculate the Average Sale of each hour, so that you have insight of the busiest hour in the month."
   ]
  },
  {
   "cell_type": "code",
   "execution_count": 20,
   "metadata": {},
   "outputs": [
    {
     "name": "stdout",
     "output_type": "stream",
     "text": [
      "Average_Sale_per_Hour  [54.20833333 49.45833333 45.875      47.08333333 54.25       40.70833333\n",
      " 50.91666667 51.08333333 47.83333333 50.54166667 48.125      38.25\n",
      " 51.125      48.29166667 50.33333333 54.79166667 51.625      49.5\n",
      " 49.875      54.29166667 43.20833333 45.25       57.08333333 58.125\n",
      " 35.20833333 59.         52.20833333 43.95833333 59.66666667 47.41666667\n",
      " 45.75      ]\n"
     ]
    }
   ],
   "source": [
    "Average_Sale_per_Hour= Monthly.mean(axis = 1)\n",
    "print(f\"Average_Sale_per_Hour  {Average_Sale_per_Hour}\")"
   ]
  },
  {
   "cell_type": "markdown",
   "metadata": {},
   "source": [
    "4) Calculate the minimum and Maximum Sale of each day."
   ]
  },
  {
   "cell_type": "code",
   "execution_count": 21,
   "metadata": {},
   "outputs": [
    {
     "name": "stdout",
     "output_type": "stream",
     "text": [
      "Minimum Sale  [ 4  1  1  5 10  5  6  2  1  4  4  2  4  2  8  5  7  1  2  5  1  2  2  6\n",
      "  2  6 12  8  3  2  4] each day\n",
      "Maximum Sale  [99 96 96 86 99 83 86 99 95 96 99 94 99 97 96 98 98 86 99 96 91 96 98 97\n",
      " 76 99 98 99 95 94 97] Each Day\n"
     ]
    }
   ],
   "source": [
    "Minimum=Monthly.min(axis = 1)\n",
    "print(f\"Minimum Sale  {Minimum} each day\")\n",
    "Maximum=Monthly.max(axis = 1)\n",
    "print(f\"Maximum Sale  {Maximum} Each Day\")\n"
   ]
  },
  {
   "cell_type": "markdown",
   "metadata": {},
   "source": [
    "5) Calculate the Minimum and Maximum Sale of each hour."
   ]
  },
  {
   "cell_type": "code",
   "execution_count": 23,
   "metadata": {},
   "outputs": [
    {
     "name": "stdout",
     "output_type": "stream",
     "text": [
      "Minimum Sale  [ 2  1  1  3  2  1  3  4  2  2  7  2 11  4  1  1  2  3  4  5  1  5  2  5] each Hour\n",
      "Maximum Sale  [99 96 94 98 95 87 99 89 99 99 96 99 99 92 85 98 97 97 96 95 97 99 99 98] Each Hour\n"
     ]
    }
   ],
   "source": [
    "Minimum=Monthly.min(axis = 0)\n",
    "print(f\"Minimum Sale  {Minimum} each Hour\")\n",
    "Maximum=Monthly.max(axis = 0)\n",
    "print(f\"Maximum Sale  {Maximum} Each Hour\")"
   ]
  },
  {
   "cell_type": "markdown",
   "metadata": {},
   "source": [
    "6) Calculate Daily Cumulative Sum"
   ]
  },
  {
   "cell_type": "code",
   "execution_count": 27,
   "metadata": {},
   "outputs": [
    {
     "name": "stdout",
     "output_type": "stream",
     "text": [
      "Daily Cumulative Sum   [[  80   84  137  168  256  292  368  381  397  494  564  574  653  705\n",
      "   775  822  906  949 1038 1054 1089 1120 1219 1301]\n",
      " [  46   47   57  105  191  227  322  361  411  441  503  530  626  634\n",
      "   719  736  801  879  947  980 1071 1084 1091 1187]\n",
      " [  25  121  164  178  213  214  228  276  288  370  440  466  518  587\n",
      "   665  686  691  760  806  872  953 1017 1083 1101]\n",
      " [  69  134  215  246  259  311  323  409  484  554  615  675  686  729\n",
      "   802  885  944  957  974 1012 1049 1054 1074 1130]\n",
      " [  43  101  142  204  247  257  329  348  372  439  497  596  623  704\n",
      "   784  863  883  978 1054 1081 1091 1109 1206 1302]\n",
      " [  52   94  110  127  203  234  290  326  395  436  480  487  527  542\n",
      "   563  593  632  675  733  809  892  897  941  977]\n",
      " [  61  143  221  282  361  428  490  512  518  582  641  676  721  751\n",
      "   784  831  905  967  983 1031 1117 1135 1191 1222]\n",
      " [  76  164  214  298  329  340  417  475  498  520  597  681  780  823\n",
      "   827  829  925  974 1001 1085 1129 1136 1139 1226]\n",
      " [  48  143  231  316  371  401  454  515  528  596  658  730  754  819\n",
      "   853  920  940  953  960  970  971 1011 1072 1148]\n",
      " [   5    9   78  102  122  179  216  292  356  448  523  593  663  686\n",
      "   699  737  776  834  883  928 1004 1050 1117 1213]\n",
      " [  93  116  144  149  172  207  211  299  398  494  540  582  600  629\n",
      "   700  704  791  803  846  934  955 1027 1099 1155]\n",
      " [  38   44  138  193  201  203  206  271  296  366  396  466  521  525\n",
      "   559  619  670  746  756  778  835  873  875  918]\n",
      " [  85  171  197  257  272  319  381  385  442  475  534  580  660  728\n",
      "   755  831  839  920  938  955  994 1093 1177 1227]\n",
      " [  86  160  170  216  270  346  422  449  451  483  545  590  620  705\n",
      "   760  765  769  806  887  912 1009 1034 1101 1159]\n",
      " [  96  122  196  204  272  305  368  449  474  521  600  625  686  734\n",
      "   783  801  836  878  961  976 1059 1107 1154 1208]\n",
      " [  67  111  160  258  301  388  425  509  547  615  654  688  706  776\n",
      "   852  946 1016 1027 1115 1120 1151 1157 1238 1315]\n",
      " [  48   68  130  172  179  188  243  262  351  444  457  555  632  666\n",
      "   718  759  851  866  936 1031 1085 1109 1180 1239]\n",
      " [  55   97   98  174  211  261  326  361  444  530  571  655  677  728\n",
      "   729  812  848  851  923  942 1028 1107 1136 1188]\n",
      " [  99  173  262  290  300  311  390  403  498  527  534  536  630  691\n",
      "   710  796  891  934  989  998 1023 1048 1113 1197]\n",
      " [   5   19   82  135  189  194  260  265  287  364  435  500  569  598\n",
      "   676  765  861  956 1020 1057 1065 1152 1228 1303]\n",
      " [  91  131  156  187  190  250  273  281  358  361  422  425  468  557\n",
      "   620  621  692  767  805  818  879  916  995 1037]\n",
      " [   2   16   33   70  108  180  251  316  375  429  503  522  614  626\n",
      "   693  740  777  809  905  926  931  955  999 1086]\n",
      " [  98  169  231  326  367  448  504  580  638  640  715  757  844  932\n",
      "   973  980 1037 1071 1124 1201 1267 1288 1364 1370]\n",
      " [  92  164  192  265  352  394  467  546  643  727  743  821  858  877\n",
      "   900  949 1023 1065 1116 1181 1262 1268 1339 1395]\n",
      " [  70   91  121  154  170  185  255  310  340  362  438  496  542  560\n",
      "   588  597  599  604  620  652  709  775  802  845]\n",
      " [  95  187  215  269  276  318  417  485  579  591  687  737  836  864\n",
      "   891  982 1054 1112 1190 1207 1264 1270 1330 1416]\n",
      " [  49  130  145  229  307  325  337  358  394  409  504  527  570  589\n",
      "   668  766  815  912  952  981 1074 1088 1155 1253]\n",
      " [  30   38   65  141  224  252  287  341  367  466  514  608  623  657\n",
      "   679  748  845  938  948  978  989 1015 1046 1055]\n",
      " [  39   93  159  162  257  343  364  401  453  495  575  624  709  801\n",
      "   867  919 1013 1107 1124 1215 1278 1349 1389 1432]\n",
      " [  73   93  102  164  166  183  252  315  357  374  444  538  615  690\n",
      "   760  768  811  871  891  963 1023 1075 1088 1138]\n",
      " [  18   53  104  145  172  246  343  432  484  514  561  657  727  795\n",
      "   814  866  871  878  882  905  992 1020 1093 1098]]\n"
     ]
    }
   ],
   "source": [
    "Cum_sum = Monthly.cumsum(axis = 1)\n",
    "print(f'Daily Cumulative Sum   {Cum_sum}')"
   ]
  },
  {
   "cell_type": "markdown",
   "metadata": {},
   "source": [
    "7) Calculate Daily Total Sum"
   ]
  },
  {
   "cell_type": "code",
   "execution_count": 28,
   "metadata": {},
   "outputs": [
    {
     "name": "stdout",
     "output_type": "stream",
     "text": [
      "Daily Total Sum  [1301 1187 1101 1130 1302  977 1222 1226 1148 1213 1155  918 1227 1159\n",
      " 1208 1315 1239 1188 1197 1303 1037 1086 1370 1395  845 1416 1253 1055\n",
      " 1432 1138 1098]\n"
     ]
    }
   ],
   "source": [
    "daily_total_sum = Monthly.sum(axis = 1)\n",
    "print(f'Daily Total Sum  {daily_total_sum}')"
   ]
  },
  {
   "cell_type": "markdown",
   "metadata": {},
   "source": [
    "8) Use Boolean Indexing to search for records where sale is greater than a defined value, choose an appropriate value depending upon your dataset"
   ]
  },
  {
   "cell_type": "code",
   "execution_count": 30,
   "metadata": {},
   "outputs": [
    {
     "data": {
      "text/plain": [
       "array([[False, False, False, False, False, False, False, False, False,\n",
       "         True, False, False, False, False, False, False, False, False,\n",
       "        False, False, False, False,  True, False],\n",
       "       [False, False, False, False, False, False,  True, False, False,\n",
       "        False, False, False,  True, False, False, False, False, False,\n",
       "        False, False,  True, False, False,  True],\n",
       "       [False,  True, False, False, False, False, False, False, False,\n",
       "        False, False, False, False, False, False, False, False, False,\n",
       "        False, False, False, False, False, False],\n",
       "       [False, False, False, False, False, False, False, False, False,\n",
       "        False, False, False, False, False, False, False, False, False,\n",
       "        False, False, False, False, False, False],\n",
       "       [False, False, False, False, False, False, False, False, False,\n",
       "        False, False,  True, False, False, False, False, False,  True,\n",
       "        False, False, False, False,  True,  True],\n",
       "       [False, False, False, False, False, False, False, False, False,\n",
       "        False, False, False, False, False, False, False, False, False,\n",
       "        False, False, False, False, False, False],\n",
       "       [False, False, False, False, False, False, False, False, False,\n",
       "        False, False, False, False, False, False, False, False, False,\n",
       "        False, False, False, False, False, False],\n",
       "       [False, False, False, False, False, False, False, False, False,\n",
       "        False, False, False,  True, False, False, False,  True, False,\n",
       "        False, False, False, False, False, False],\n",
       "       [False,  True, False, False, False, False, False, False, False,\n",
       "        False, False, False, False, False, False, False, False, False,\n",
       "        False, False, False, False, False, False],\n",
       "       [False, False, False, False, False, False, False, False, False,\n",
       "         True, False, False, False, False, False, False, False, False,\n",
       "        False, False, False, False, False,  True],\n",
       "       [ True, False, False, False, False, False, False, False,  True,\n",
       "         True, False, False, False, False, False, False, False, False,\n",
       "        False, False, False, False, False, False],\n",
       "       [False, False,  True, False, False, False, False, False, False,\n",
       "        False, False, False, False, False, False, False, False, False,\n",
       "        False, False, False, False, False, False],\n",
       "       [False, False, False, False, False, False, False, False, False,\n",
       "        False, False, False, False, False, False, False, False, False,\n",
       "        False, False, False,  True, False, False],\n",
       "       [False, False, False, False, False, False, False, False, False,\n",
       "        False, False, False, False, False, False, False, False, False,\n",
       "        False, False,  True, False, False, False],\n",
       "       [ True, False, False, False, False, False, False, False, False,\n",
       "        False, False, False, False, False, False, False, False, False,\n",
       "        False, False, False, False, False, False],\n",
       "       [False, False, False,  True, False, False, False, False, False,\n",
       "        False, False, False, False, False, False,  True, False, False,\n",
       "        False, False, False, False, False, False],\n",
       "       [False, False, False, False, False, False, False, False, False,\n",
       "         True, False,  True, False, False, False, False,  True, False,\n",
       "        False,  True, False, False, False, False],\n",
       "       [False, False, False, False, False, False, False, False, False,\n",
       "        False, False, False, False, False, False, False, False, False,\n",
       "        False, False, False, False, False, False],\n",
       "       [ True, False, False, False, False, False, False, False,  True,\n",
       "        False, False, False,  True, False, False, False,  True, False,\n",
       "        False, False, False, False, False, False],\n",
       "       [False, False, False, False, False, False, False, False, False,\n",
       "        False, False, False, False, False, False, False,  True,  True,\n",
       "        False, False, False, False, False, False],\n",
       "       [ True, False, False, False, False, False, False, False, False,\n",
       "        False, False, False, False, False, False, False, False, False,\n",
       "        False, False, False, False, False, False],\n",
       "       [False, False, False, False, False, False, False, False, False,\n",
       "        False, False, False,  True, False, False, False, False, False,\n",
       "         True, False, False, False, False, False],\n",
       "       [ True, False, False,  True, False, False, False, False, False,\n",
       "        False, False, False, False, False, False, False, False, False,\n",
       "        False, False, False, False, False, False],\n",
       "       [ True, False, False, False, False, False, False, False,  True,\n",
       "        False, False, False, False, False, False, False, False, False,\n",
       "        False, False, False, False, False, False],\n",
       "       [False, False, False, False, False, False, False, False, False,\n",
       "        False, False, False, False, False, False, False, False, False,\n",
       "        False, False, False, False, False, False],\n",
       "       [ True,  True, False, False, False, False,  True, False,  True,\n",
       "        False,  True, False,  True, False, False,  True, False, False,\n",
       "        False, False, False, False, False, False],\n",
       "       [False, False, False, False, False, False, False, False, False,\n",
       "        False,  True, False, False, False, False,  True, False,  True,\n",
       "        False, False,  True, False, False,  True],\n",
       "       [False, False, False, False, False, False, False, False, False,\n",
       "         True, False,  True, False, False, False, False,  True,  True,\n",
       "        False, False, False, False, False, False],\n",
       "       [False, False, False, False,  True, False, False, False, False,\n",
       "        False, False, False, False,  True, False, False,  True,  True,\n",
       "        False,  True, False, False, False, False],\n",
       "       [False, False, False, False, False, False, False, False, False,\n",
       "        False, False,  True, False, False, False, False, False, False,\n",
       "        False, False, False, False, False, False],\n",
       "       [False, False, False, False, False, False,  True, False, False,\n",
       "        False, False,  True, False, False, False, False, False, False,\n",
       "        False, False, False, False, False, False]])"
      ]
     },
     "execution_count": 30,
     "metadata": {},
     "output_type": "execute_result"
    }
   ],
   "source": [
    "\n",
    "Monthly > 90\n"
   ]
  },
  {
   "cell_type": "markdown",
   "metadata": {},
   "source": [
    "8) Use Boolean Indexing to search for records where sale is greater than a defined value, choose an appropriate value depending upon your dataset"
   ]
  },
  {
   "cell_type": "code",
   "execution_count": 31,
   "metadata": {},
   "outputs": [
    {
     "data": {
      "text/plain": [
       "array([97, 99, 95, 96, 91, 96, 96, 99, 95, 97, 96, 99, 96, 95, 92, 96, 93,\n",
       "       99, 96, 94, 99, 97, 96, 98, 94, 93, 98, 92, 95, 99, 95, 94, 95, 96,\n",
       "       95, 91, 92, 96, 98, 95, 92, 97, 95, 92, 99, 94, 96, 99, 91, 95, 98,\n",
       "       97, 93, 98, 99, 94, 97, 93, 95, 92, 94, 94, 91, 94, 97, 96])"
      ]
     },
     "execution_count": 31,
     "metadata": {},
     "output_type": "execute_result"
    }
   ],
   "source": [
    "condition = Monthly > 90\n",
    "Monthly[condition]"
   ]
  },
  {
   "cell_type": "code",
   "execution_count": 33,
   "metadata": {},
   "outputs": [
    {
     "name": "stdout",
     "output_type": "stream",
     "text": [
      "There are 66 hours in which you have sale more then 90rs out of 744\n"
     ]
    }
   ],
   "source": [
    "Monthly_greater90 = len(Monthly[Monthly > 90])\n",
    "total_hours = len(Monthly.reshape(31*24,1))\n",
    "print('There are',Monthly_greater90,'hours in which you have sale more then 90rs out of',total_hours)"
   ]
  },
  {
   "cell_type": "code",
   "execution_count": 36,
   "metadata": {},
   "outputs": [
    {
     "data": {
      "text/plain": [
       "array([1301, 1187, 1101, 1130, 1302,  977, 1222, 1226, 1148, 1213, 1155,\n",
       "        918, 1227, 1159, 1208, 1315, 1239, 1188, 1197, 1303, 1037, 1086,\n",
       "       1370, 1395,  845, 1416, 1253, 1055, 1432, 1138, 1098])"
      ]
     },
     "execution_count": 36,
     "metadata": {},
     "output_type": "execute_result"
    }
   ],
   "source": [
    "Monthly.sum(axis = 1)"
   ]
  },
  {
   "cell_type": "code",
   "execution_count": 37,
   "metadata": {},
   "outputs": [
    {
     "data": {
      "text/plain": [
       "array([ True,  True,  True,  True,  True, False,  True,  True,  True,\n",
       "        True,  True, False,  True,  True,  True,  True,  True,  True,\n",
       "        True,  True,  True,  True,  True,  True, False,  True,  True,\n",
       "        True,  True,  True,  True])"
      ]
     },
     "execution_count": 37,
     "metadata": {},
     "output_type": "execute_result"
    }
   ],
   "source": [
    "Monthly.sum(axis = 1) > 1000"
   ]
  },
  {
   "cell_type": "code",
   "execution_count": 39,
   "metadata": {},
   "outputs": [
    {
     "name": "stdout",
     "output_type": "stream",
     "text": [
      "There are 28 days in which sale is greater than 1000.\n"
     ]
    }
   ],
   "source": [
    "days_sale1000 = len(Monthly.sum(axis = 1)[Monthly.sum(axis = 1) > 1000])\n",
    "print('There are',days_sale1000,'days in which sale is greater than 1000.')"
   ]
  },
  {
   "cell_type": "code",
   "execution_count": null,
   "metadata": {},
   "outputs": [],
   "source": []
  }
 ],
 "metadata": {
  "kernelspec": {
   "display_name": "Python 3",
   "language": "python",
   "name": "python3"
  },
  "language_info": {
   "codemirror_mode": {
    "name": "ipython",
    "version": 3
   },
   "file_extension": ".py",
   "mimetype": "text/x-python",
   "name": "python",
   "nbconvert_exporter": "python",
   "pygments_lexer": "ipython3",
   "version": "3.7.3"
  }
 },
 "nbformat": 4,
 "nbformat_minor": 2
}
